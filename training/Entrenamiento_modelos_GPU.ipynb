{
  "cells": [
    {
      "cell_type": "markdown",
      "metadata": {
        "id": "view-in-github",
        "colab_type": "text"
      },
      "source": [
        "<a href=\"https://colab.research.google.com/github/Molter73/proyecto-computacion-1/blob/mauro%2Fnotebooks/training/Entrenamiento_modelos_GPU.ipynb\" target=\"_parent\"><img src=\"https://colab.research.google.com/assets/colab-badge.svg\" alt=\"Open In Colab\"/></a>"
      ]
    },
    {
      "cell_type": "code",
      "execution_count": null,
      "metadata": {
        "id": "pSSVRGd5BDlL"
      },
      "outputs": [],
      "source": [
        "# download dataset\n",
        "!pip install gdown==v4.6.3\n",
        "! [ -d /content/SemEval2024-Task8 ] || gdown --folder https://drive.google.com/drive/folders/14DulzxuH5TDhXtviRVXsH5e2JTY2POLi"
      ]
    },
    {
      "cell_type": "code",
      "execution_count": null,
      "metadata": {
        "id": "t8Gj412m_itk"
      },
      "outputs": [],
      "source": [
        "!pip install datasets==2.14.5 evaluate==0.4.1 transformers[torch]==4.29.2"
      ]
    },
    {
      "cell_type": "code",
      "execution_count": null,
      "metadata": {
        "id": "V9QRORP__Kd-"
      },
      "outputs": [],
      "source": [
        "from datasets import Dataset\n",
        "import pandas as pd\n",
        "import evaluate\n",
        "import numpy as np\n",
        "from transformers import AutoModelForSequenceClassification, TrainingArguments, Trainer, DataCollatorWithPadding, AutoTokenizer, set_seed\n",
        "import os\n",
        "from sklearn.model_selection import train_test_split\n",
        "from scipy.special import softmax\n",
        "import argparse\n",
        "import logging\n",
        "from sklearn.metrics import classification_report\n",
        "import json"
      ]
    },
    {
      "cell_type": "code",
      "execution_count": null,
      "metadata": {
        "id": "JimxDQCfAdTP"
      },
      "outputs": [],
      "source": [
        "def preprocess_function(examples, **fn_kwargs):\n",
        "    return fn_kwargs['tokenizer'](examples[\"text\"], truncation=True, max_length=343)"
      ]
    },
    {
      "cell_type": "code",
      "execution_count": null,
      "metadata": {
        "id": "jrdg5prHAiVf"
      },
      "outputs": [],
      "source": [
        "def get_data(train_path, test_path, dataset_path, random_seed):\n",
        "    \"\"\"\n",
        "    function to read dataframe with columns\n",
        "    \"\"\"\n",
        "\n",
        "    train_df = pd.read_json(train_path, lines=True)\n",
        "    test_df = pd.read_json(test_path, lines=True)\n",
        "    dataset_df = pd.read_json(dataset_path, lines=True)\n",
        "\n",
        "    train_df, val_df = train_test_split(train_df, test_size=0.2, stratify=train_df['label'], random_state=random_seed)\n",
        "\n",
        "    return train_df, val_df, test_df, dataset_df"
      ]
    },
    {
      "cell_type": "code",
      "execution_count": null,
      "metadata": {
        "id": "Ey-wlBPPAkWi"
      },
      "outputs": [],
      "source": [
        "def compute_metrics(eval_pred):\n",
        "\n",
        "    f1_metric = evaluate.load(\"f1\")\n",
        "\n",
        "    predictions, labels = eval_pred\n",
        "    predictions = np.argmax(predictions, axis=1)\n",
        "\n",
        "    results = {}\n",
        "    results.update(f1_metric.compute(predictions=predictions, references = labels, average=\"micro\"))\n",
        "\n",
        "    return results\n"
      ]
    },
    {
      "cell_type": "code",
      "execution_count": null,
      "metadata": {
        "id": "-GUW9NdCAm4K"
      },
      "outputs": [],
      "source": [
        "def fine_tune(train_df, valid_df, checkpoints_path, id2label, label2id, model):\n",
        "\n",
        "    # pandas dataframe to huggingface Dataset\n",
        "    train_dataset = Dataset.from_pandas(train_df)\n",
        "    valid_dataset = Dataset.from_pandas(valid_df)\n",
        "\n",
        "    # get tokenizer and model from huggingface\n",
        "    tokenizer = AutoTokenizer.from_pretrained(model)     # put your model here\n",
        "    model = AutoModelForSequenceClassification.from_pretrained(\n",
        "       model, num_labels=len(label2id), id2label=id2label, label2id=label2id    # put your model here\n",
        "    )\n",
        "\n",
        "    # tokenize data for train/valid\n",
        "    tokenized_train_dataset = train_dataset.map(preprocess_function, batched=True, fn_kwargs={'tokenizer': tokenizer})\n",
        "    tokenized_valid_dataset = valid_dataset.map(preprocess_function, batched=True,  fn_kwargs={'tokenizer': tokenizer})\n",
        "\n",
        "\n",
        "    data_collator = DataCollatorWithPadding(tokenizer=tokenizer)\n",
        "\n",
        "\n",
        "    # create Trainer\n",
        "    training_args = TrainingArguments(\n",
        "        output_dir=checkpoints_path,\n",
        "        learning_rate=2e-5,\n",
        "        per_device_train_batch_size=16,\n",
        "        per_device_eval_batch_size=16,\n",
        "        num_train_epochs=3,\n",
        "        weight_decay=0.01,\n",
        "        evaluation_strategy=\"epoch\",\n",
        "        save_strategy=\"epoch\",\n",
        "        load_best_model_at_end=True,\n",
        "    )\n",
        "\n",
        "    trainer = Trainer(\n",
        "        model=model,\n",
        "        args=training_args,\n",
        "        train_dataset=tokenized_train_dataset,\n",
        "        eval_dataset=tokenized_valid_dataset,\n",
        "        tokenizer=tokenizer,\n",
        "        data_collator=data_collator,\n",
        "        compute_metrics=compute_metrics,\n",
        "    )\n",
        "\n",
        "    trainer.train()\n",
        "\n",
        "    # save best model\n",
        "    best_model_path = checkpoints_path+'/best/'\n",
        "\n",
        "    if not os.path.exists(best_model_path):\n",
        "        os.makedirs(best_model_path)\n",
        "\n",
        "\n",
        "    trainer.save_model(best_model_path)"
      ]
    },
    {
      "cell_type": "code",
      "execution_count": null,
      "metadata": {
        "id": "dIG5fRw0AppC"
      },
      "outputs": [],
      "source": [
        "def test(test_df, model_path, id2label, label2id):\n",
        "\n",
        "    # load tokenizer from saved model\n",
        "    tokenizer = AutoTokenizer.from_pretrained(model_path)\n",
        "\n",
        "    # load best model\n",
        "    model = AutoModelForSequenceClassification.from_pretrained(\n",
        "       model_path, num_labels=len(label2id), id2label=id2label, label2id=label2id\n",
        "    )\n",
        "\n",
        "    test_dataset = Dataset.from_pandas(test_df)\n",
        "\n",
        "    tokenized_test_dataset = test_dataset.map(preprocess_function, batched=True,  fn_kwargs={'tokenizer': tokenizer})\n",
        "    data_collator = DataCollatorWithPadding(tokenizer=tokenizer)\n",
        "\n",
        "    # create Trainer\n",
        "    trainer = Trainer(\n",
        "        model=model,\n",
        "        tokenizer=tokenizer,\n",
        "        data_collator=data_collator,\n",
        "        compute_metrics=compute_metrics,\n",
        "    )\n",
        "    # get logits from predictions and evaluate results using classification report\n",
        "    predictions = trainer.predict(tokenized_test_dataset)\n",
        "    prob_pred = softmax(predictions.predictions, axis=-1)\n",
        "    preds = np.argmax(predictions.predictions, axis=-1)\n",
        "    metric = evaluate.load(\"bstrai/classification_report\")\n",
        "    results = metric.compute(predictions=preds, references=predictions.label_ids)\n",
        "\n",
        "    # return dictionary of classification report\n",
        "    return results, preds"
      ]
    },
    {
      "cell_type": "code",
      "execution_count": null,
      "metadata": {
        "id": "8iCeNmj7Asda"
      },
      "outputs": [],
      "source": [
        "# define input arguments\n",
        "dataset_path = \"/content/mount/dataset.jsonl\"\n",
        "#model_name = \"google/bert_uncased_L-8_H-512_A-8\" # monolilingual model\n",
        "model_name =  'roberta-base' # monolilingual model (0.65 mF1)\n",
        "#model_name =  'xlm-roberta-base' # multilingual model\n",
        "subtask =  \"B\"\n",
        "prediction_path = \"subtask\"+subtask+\"_predictions.jsonl\"\n",
        "\n",
        "random_seed = 0\n",
        "\n",
        "if subtask == \"A\":\n",
        "  train_path = \"/content/SemEval2024-Task8/SubtaskA/subtaskA_train_monolingual.jsonl\"\n",
        "  test_path =  \"/content/SemEval2024-Task8/SubtaskA/subtaskA_dev_monolingual.jsonl\"\n",
        "  max_instances_per_class = 20000\n",
        "elif subtask == \"B\":\n",
        "  train_path = \"/content/SemEval2024-Task8/SubtaskB/subtaskB_train.jsonl\"\n",
        "  test_path =  \"/content/SemEval2024-Task8/SubtaskB/subtaskB_dev.jsonl\"\n",
        "  max_instances_per_class = 1000\n",
        "else:\n",
        "  logging.error(\"Wrong subtask: {}. It should be A or B\".format(subtask))\n",
        "  raise ValueError(\"Wrong subtask: {}. It should be A or B\".format(subtask))\n",
        "\n",
        "if not os.path.exists(train_path):\n",
        "  logging.error(\"File doesnt exists: {}\".format(train_path))\n",
        "  raise ValueError(\"File doesnt exists: {}\".format(train_path))\n",
        "\n",
        "if not os.path.exists(test_path):\n",
        "  logging.error(\"File doesnt exists: {}\".format(train_path))\n",
        "  raise ValueError(\"File doesnt exists: {}\".format(train_path))\n",
        "\n",
        "\n",
        "if subtask == 'A':\n",
        "  id2label = {0: \"human\", 1: \"machine\"}\n",
        "  label2id = {\"human\": 0, \"machine\": 1}\n",
        "elif subtask == 'B':\n",
        "  id2label = {0: 'human', 1: 'chatGPT', 2: 'cohere', 3: 'davinci', 4: 'bloomz', 5: 'dolly'}\n",
        "  label2id = {'human': 0, 'chatGPT': 1,'cohere': 2, 'davinci': 3, 'bloomz': 4, 'dolly': 5}\n",
        "else:\n",
        "  logging.error(\"Wrong subtask: {}. It should be A or B\".format(subtask))\n",
        "  raise ValueError(\"Wrong subtask: {}. It should be A or B\".format(subtask))\n",
        "\n",
        "set_seed(random_seed)"
      ]
    },
    {
      "cell_type": "code",
      "execution_count": null,
      "metadata": {
        "id": "T_8RLCCEwPr9"
      },
      "outputs": [],
      "source": [
        "#get data for train/dev/test sets\n",
        "train_df, valid_df, test_df, dataset_df = get_data(train_path, test_path, dataset_path, random_seed)"
      ]
    },
    {
      "cell_type": "code",
      "execution_count": null,
      "metadata": {
        "id": "eEfbuM6kwyel"
      },
      "outputs": [],
      "source": [
        "# downsample training data to train faster\n",
        "train_df = train_df.groupby(\"label\").sample(n=max_instances_per_class, random_state=random_seed)\n"
      ]
    },
    {
      "cell_type": "code",
      "execution_count": null,
      "metadata": {
        "id": "kxZ1pZcKHM-8"
      },
      "outputs": [],
      "source": [
        "# determine avg text length in tokens\n",
        "print(int(train_df[\"text\"].map(lambda x: len(x.split(\" \"))).mean()))"
      ]
    },
    {
      "cell_type": "code",
      "execution_count": null,
      "metadata": {
        "id": "SCxvXEKBwQYF"
      },
      "outputs": [],
      "source": [
        "# train detector model\n",
        "fine_tune(train_df, valid_df, f\"{model_name}/subtask{subtask}/{random_seed}\", id2label, label2id, model_name)"
      ]
    },
    {
      "cell_type": "code",
      "execution_count": null,
      "metadata": {
        "id": "R8YgGbIowXmN"
      },
      "outputs": [],
      "source": [
        "# test detector model\n",
        "results, predictions = test(test_df, f\"{model_name}/subtask{subtask}/{random_seed}/best/\", id2label, label2id)\n",
        "\n",
        "logging.info(results)\n",
        "predictions_df = pd.DataFrame({'id': test_df['id'], 'label': predictions})\n",
        "predictions_df.to_json(prediction_path, lines=True, orient='records')"
      ]
    },
    {
      "cell_type": "code",
      "execution_count": null,
      "metadata": {
        "id": "C31VjDpuIa8i"
      },
      "outputs": [],
      "source": [
        "print(results)\n",
        "with open(f'/content/mount/{model_name}/subtask{subtask}-dev.json', 'w') as f:\n",
        "  json.dump(results, f)"
      ]
    },
    {
      "cell_type": "code",
      "execution_count": null,
      "metadata": {
        "id": "CKv55gACC_gr"
      },
      "outputs": [],
      "source": [
        "target_names = [label for idx, label in id2label.items()]\n",
        "print(classification_report(test_df[\"label\"], predictions, target_names=target_names))"
      ]
    },
    {
      "cell_type": "code",
      "source": [
        "# test detector model against dataset\n",
        "results, predictions = test(dataset_df, f\"{model_name}/subtask{subtask}/{random_seed}/best/\", id2label, label2id)\n",
        "\n",
        "logging.info(results)\n",
        "predictions_df = pd.DataFrame({'id': dataset_df['id'], 'label': predictions})\n",
        "predictions_df.to_json(prediction_path, lines=True, orient='records')"
      ],
      "metadata": {
        "id": "vn2ELuTpfCLJ"
      },
      "execution_count": null,
      "outputs": []
    },
    {
      "cell_type": "code",
      "source": [
        "print(results)\n",
        "with open(f'/content/mount/{model_name}/subtask{subtask}-dataset.json', 'w') as f:\n",
        "  json.dump(results, f)"
      ],
      "metadata": {
        "id": "rnH0zp2BtM71"
      },
      "execution_count": null,
      "outputs": []
    },
    {
      "cell_type": "code",
      "source": [
        "target_names = [label for idx, label in id2label.items()]\n",
        "print(classification_report(dataset_df[\"label\"], predictions, target_names=target_names))"
      ],
      "metadata": {
        "id": "stKtItRUtOVi"
      },
      "execution_count": null,
      "outputs": []
    },
    {
      "cell_type": "code",
      "source": [],
      "metadata": {
        "id": "4mt1qini7udl"
      },
      "execution_count": null,
      "outputs": []
    }
  ],
  "metadata": {
    "accelerator": "GPU",
    "colab": {
      "provenance": [],
      "gpuType": "T4",
      "private_outputs": true,
      "include_colab_link": true
    },
    "kernelspec": {
      "display_name": "Python 3",
      "name": "python3"
    },
    "language_info": {
      "name": "python"
    }
  },
  "nbformat": 4,
  "nbformat_minor": 0
}